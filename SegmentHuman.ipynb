{
 "cells": [
  {
   "cell_type": "code",
   "execution_count": 1,
   "metadata": {},
   "outputs": [
    {
     "name": "stdout",
     "output_type": "stream",
     "text": [
      "earth\n"
     ]
    }
   ],
   "source": [
    "print(\"earth\")"
   ]
  },
  {
   "cell_type": "code",
   "execution_count": 2,
   "metadata": {},
   "outputs": [],
   "source": [
    "# import numpy as np \n",
    "from imutils.video import FPS\n",
    "import numpy as np\n",
    "import matplotlib.pyplot as plt\n",
    "import cv2\n",
    "import os"
   ]
  },
  {
   "cell_type": "code",
   "execution_count": 3,
   "metadata": {},
   "outputs": [],
   "source": [
    "webcam = 1\n",
    "expected_confidence = 0.3\n",
    "threshold = 0.1\n",
    "show_output = 1\n",
    "save_output = 1\n",
    "kernel = np.ones((5,5),np.uint8)\n",
    "writer = None\n",
    "fps = FPS().start()"
   ]
  },
  {
   "cell_type": "code",
   "execution_count": 4,
   "metadata": {},
   "outputs": [],
   "source": [
    "weightsPath = \"mask-rcnn-coco/frozen_inference_graph.pb\"\n",
    "configPath = \"mask-rcnn-coco/mask_rcnn_inception_v2_coco_2018_01_28.pbtxt\""
   ]
  },
  {
   "cell_type": "code",
   "execution_count": 5,
   "metadata": {},
   "outputs": [
    {
     "name": "stdout",
     "output_type": "stream",
     "text": [
      "[INFO] loading Mask R-CNN from disk...\n"
     ]
    }
   ],
   "source": [
    "print(\"[INFO] loading Mask R-CNN from disk...\")\n",
    "net = cv2.dnn.readNetFromTensorflow(weightsPath, configPath)"
   ]
  },
  {
   "cell_type": "code",
   "execution_count": 6,
   "metadata": {},
   "outputs": [
    {
     "name": "stdout",
     "output_type": "stream",
     "text": [
      "[INFO] setting preferable backend and target to CUDA...\n"
     ]
    }
   ],
   "source": [
    "if True:\n",
    "    # set CUDA as the preferable backend and target\n",
    "    print(\"[INFO] setting preferable backend and target to CUDA...\")\n",
    "    net.setPreferableBackend(cv2.dnn.DNN_BACKEND_CUDA)\n",
    "    net.setPreferableTarget(cv2.dnn.DNN_TARGET_CUDA)\n"
   ]
  },
  {
   "cell_type": "code",
   "execution_count": 9,
   "metadata": {},
   "outputs": [
    {
     "name": "stdout",
     "output_type": "stream",
     "text": [
      "[INFO] accessing video stream...\n"
     ]
    }
   ],
   "source": [
    "print(\"[INFO] accessing video stream...\")\n",
    "cap = cv2.VideoCapture(0)"
   ]
  },
  {
   "cell_type": "code",
   "execution_count": 10,
   "metadata": {},
   "outputs": [
    {
     "name": "stdout",
     "output_type": "stream",
     "text": [
      "[INFO] background recording...\n",
      "[INFO] background recording done...\n"
     ]
    }
   ],
   "source": [
    "print(\"[INFO] background recording...\")\n",
    "for _ in range(60):\n",
    "    _,bg = cap.read()\n",
    "print(\"[INFO] background recording done...\")"
   ]
  },
  {
   "cell_type": "code",
   "execution_count": 11,
   "metadata": {},
   "outputs": [],
   "source": [
    "fourcc = cv2.VideoWriter_fourcc(*\"MJPG\")\n",
    "writer = cv2.VideoWriter('output.avi', fourcc, 20,(bg.shape[1], bg.shape[0]), True)"
   ]
  },
  {
   "cell_type": "code",
   "execution_count": 12,
   "metadata": {},
   "outputs": [],
   "source": [
    "while True:\n",
    "    grabbed, frame = cap.read()\n",
    "    cv2.imshow('org',frame)\n",
    "    if not grabbed:\n",
    "        break\n",
    "\n",
    "    blob = cv2.dnn.blobFromImage(frame, swapRB=True, crop=False)\n",
    "    net.setInput(blob)\n",
    "    (boxes, masks) = net.forward([\"detection_out_final\",\"detection_masks\"])\n",
    "    for i in range(0, boxes.shape[2]):\n",
    "        classID = int(boxes[0, 0, i, 1])\n",
    "        if classID!=0:continue\n",
    "        confidence = boxes[0, 0, i, 2]\n",
    "\n",
    "        if confidence > expected_confidence:\n",
    "            (H, W) = frame.shape[:2]\n",
    "            box = boxes[0, 0, i, 3:7] * np.array([W, H, W, H])\n",
    "            (startX, startY, endX, endY) = box.astype(\"int\")\n",
    "            boxW = endX - startX\n",
    "            boxH = endY - startY\n",
    "            mask = masks[i, classID]\n",
    "            mask = cv2.resize(mask, (boxW, boxH),interpolation=cv2.INTER_CUBIC)\n",
    "            mask = (mask > threshold)\n",
    "            bwmask = np.array(mask,dtype=np.uint8) * 255\n",
    "            bwmask = np.reshape(bwmask,mask.shape)\n",
    "            bwmask = cv2.dilate(bwmask,kernel,iterations=1)\n",
    "\n",
    "            frame[startY:endY, startX:endX][np.where(bwmask==255)] = bg[startY:endY, startX:endX][np.where(bwmask==255)]\n",
    "\n",
    "    if show_output:\n",
    "        cv2.imshow(\"Frame\", frame)\n",
    "\n",
    "        if cv2.waitKey(1) ==27:\n",
    "            break\n",
    "\n",
    "    if save_output:\n",
    "        writer.write(frame)\n",
    "\n",
    "    fps.update()"
   ]
  },
  {
   "cell_type": "code",
   "execution_count": 13,
   "metadata": {},
   "outputs": [
    {
     "name": "stdout",
     "output_type": "stream",
     "text": [
      "[INFO] elasped time: 6554.51\n",
      "[INFO] approx. FPS: 0.39\n"
     ]
    },
    {
     "ename": "",
     "evalue": "",
     "output_type": "error",
     "traceback": [
      "\u001b[1;31mThe Kernel crashed while executing code in the current cell or a previous cell. \n",
      "\u001b[1;31mPlease review the code in the cell(s) to identify a possible cause of the failure. \n",
      "\u001b[1;31mClick <a href='https://aka.ms/vscodeJupyterKernelCrash'>here</a> for more info. \n",
      "\u001b[1;31mView Jupyter <a href='command:jupyter.viewOutput'>log</a> for further details."
     ]
    }
   ],
   "source": [
    "fps.stop()\n",
    "print(\"[INFO] elasped time: {:.2f}\".format(fps.elapsed()))\n",
    "print(\"[INFO] approx. FPS: {:.2f}\".format(fps.fps()))"
   ]
  }
 ],
 "metadata": {
  "kernelspec": {
   "display_name": "Python 3",
   "language": "python",
   "name": "python3"
  },
  "language_info": {
   "codemirror_mode": {
    "name": "ipython",
    "version": 3
   },
   "file_extension": ".py",
   "mimetype": "text/x-python",
   "name": "python",
   "nbconvert_exporter": "python",
   "pygments_lexer": "ipython3",
   "version": "3.11.7"
  }
 },
 "nbformat": 4,
 "nbformat_minor": 2
}
